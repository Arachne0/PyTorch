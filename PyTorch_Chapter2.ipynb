{
 "cells": [
  {
   "cell_type": "code",
   "execution_count": 2,
   "id": "e0a884c2",
   "metadata": {},
   "outputs": [
    {
     "name": "stdout",
     "output_type": "stream",
     "text": [
      "tensor(10)\n",
      "0\n"
     ]
    }
   ],
   "source": [
    "import torch\n",
    "x = torch.tensor(10)\n",
    "print(x)\n",
    "print(x.dim())"
   ]
  },
  {
   "cell_type": "code",
   "execution_count": 13,
   "id": "d59a85fe",
   "metadata": {},
   "outputs": [
    {
     "data": {
      "text/plain": [
       "torch.Size([10])"
      ]
     },
     "execution_count": 13,
     "metadata": {},
     "output_type": "execute_result"
    }
   ],
   "source": [
    "x = torch.rand(10)\n",
    "x.size()"
   ]
  },
  {
   "cell_type": "code",
   "execution_count": 16,
   "id": "d80a02d7",
   "metadata": {},
   "outputs": [
    {
     "data": {
      "text/plain": [
       "torch.Size([6])"
      ]
     },
     "execution_count": 16,
     "metadata": {},
     "output_type": "execute_result"
    }
   ],
   "source": [
    "temp = torch.FloatTensor([10,20,30,40.0,50.5,60.1])\n",
    "temp.size()"
   ]
  },
  {
   "cell_type": "code",
   "execution_count": 3,
   "id": "fd3516d6",
   "metadata": {},
   "outputs": [
    {
     "data": {
      "text/plain": [
       "tensor([[2491.9255, 2464.7349, 2520.2661,  ..., 2496.5791, 2479.9211,\n",
       "         2510.3926],\n",
       "        [2492.1648, 2469.4963, 2523.1672,  ..., 2498.3096, 2501.2529,\n",
       "         2530.9197],\n",
       "        [2499.1519, 2461.1057, 2524.2153,  ..., 2498.9211, 2511.1653,\n",
       "         2539.7983],\n",
       "        ...,\n",
       "        [2492.7336, 2476.3279, 2505.9790,  ..., 2491.2263, 2500.2102,\n",
       "         2522.3945],\n",
       "        [2508.0039, 2473.4783, 2524.6680,  ..., 2493.6299, 2510.9709,\n",
       "         2516.2083],\n",
       "        [2514.5811, 2487.1362, 2543.0466,  ..., 2506.3042, 2493.1782,\n",
       "         2521.9014]])"
      ]
     },
     "execution_count": 3,
     "metadata": {},
     "output_type": "execute_result"
    }
   ],
   "source": [
    "a = torch.rand(10000,10000)\n",
    "b = torch.rand(10000,10000)\n",
    "\n",
    "a.matmul(b) "
   ]
  },
  {
   "cell_type": "code",
   "execution_count": 5,
   "id": "d401cee5",
   "metadata": {},
   "outputs": [],
   "source": [
    "# GPU 지원\n",
    "from torch import cuda \n",
    "\n",
    "if cuda.is_available(): \n",
    "    a = a.cuda()\n",
    "    b = b.cuda()\n",
    "    a.matmul(b)"
   ]
  },
  {
   "cell_type": "code",
   "execution_count": 9,
   "id": "bef34490",
   "metadata": {},
   "outputs": [
    {
     "data": {
      "text/plain": [
       "tensor([[0.2500, 0.2500],\n",
       "        [0.2500, 0.2500]])"
      ]
     },
     "execution_count": 9,
     "metadata": {},
     "output_type": "execute_result"
    }
   ],
   "source": [
    "from torch.autograd import Variable\n",
    "x = Variable(torch.ones(2,2),requires_grad=True)\n",
    "y = x.mean()\n",
    "\n",
    "y.backward()\n",
    "\n",
    "x.grad"
   ]
  },
  {
   "cell_type": "code",
   "execution_count": 10,
   "id": "1de29b9f",
   "metadata": {},
   "outputs": [],
   "source": [
    "x.grad_fn   # Variable 객체의 grad 초기 기본값은 None이다. \n",
    "            # 변수 x와 같이 사용자가 직접 생성한 변수에서 grad_fn이 가리키는 함수 참조는 None이고,\n",
    "            # 변수 y의 경우 grad_fn이 지정하는 함수 참조는 MeanBackward이다."
   ]
  },
  {
   "cell_type": "code",
   "execution_count": 11,
   "id": "c02d5692",
   "metadata": {},
   "outputs": [
    {
     "data": {
      "text/plain": [
       "tensor([[1., 1.],\n",
       "        [1., 1.]])"
      ]
     },
     "execution_count": 11,
     "metadata": {},
     "output_type": "execute_result"
    }
   ],
   "source": [
    "x.data"
   ]
  },
  {
   "cell_type": "code",
   "execution_count": 12,
   "id": "cb029c84",
   "metadata": {},
   "outputs": [
    {
     "data": {
      "text/plain": [
       "<MeanBackward0 at 0x7fbfd12085e0>"
      ]
     },
     "execution_count": 12,
     "metadata": {},
     "output_type": "execute_result"
    }
   ],
   "source": [
    "y.grad_fn"
   ]
  },
  {
   "cell_type": "code",
   "execution_count": 4,
   "id": "51fcdb5a",
   "metadata": {},
   "outputs": [
    {
     "data": {
      "text/plain": [
       "Linear(in_features=17, out_features=1, bias=True)"
      ]
     },
     "execution_count": 4,
     "metadata": {},
     "output_type": "execute_result"
    }
   ],
   "source": [
    "from torch import nn # 파이토치 신경망 구현\n",
    "f = nn.Linear(17,1)\n",
    "f"
   ]
  },
  {
   "cell_type": "code",
   "execution_count": null,
   "id": "8fa0148d",
   "metadata": {},
   "outputs": [],
   "source": [
    "# 오차 함수 구현\n",
    "def loss_fn(y,y_pred):            \n",
    "    loss = (y_pred-y).pow(2).sum()\n",
    "    for param in [w,b]:\n",
    "        if not param.grad is None: param.data.zero_() # 맨 처음은 None으로\n",
    "    loss.backward()     # backward 는 학습 파라미터 w와 b의 변화 정도를 기울기로 계산\n",
    "    return loss.data[0]"
   ]
  },
  {
   "cell_type": "code",
   "execution_count": null,
   "id": "32670f55",
   "metadata": {},
   "outputs": [],
   "source": [
    "# 옵티마이저 구현\n",
    "def optimize(learning_rate):  \n",
    "    w.data -= learning_rate * w.grad.data\n",
    "    b.data -= learning_rate * b.grad.data"
   ]
  },
  {
   "cell_type": "code",
   "execution_count": 7,
   "id": "62965949",
   "metadata": {},
   "outputs": [],
   "source": [
    "from torch.utils.data import Dataset\n",
    "\n",
    "class DogsAndCataDataset(Dataset):\n",
    "    def __init__(self,): # 사용자 정의 데이터셋 클래스에 테이블 인덱스 읽기와 이미지 파일명 읽기와 같은 초기화 작업이 필요하다면 \n",
    "        pass            # __init__ 메서드에 구현한다. \n",
    "    def __len__(self):  # __len__ (self) 메서드는 데이터셋의 최대 요소 수를 반환한다.\n",
    "        pass\n",
    "    def __getitem__(self,idx): # 데이터셋에 idx번째 해당 요소를 반환한다.\n",
    "        pass"
   ]
  },
  {
   "cell_type": "code",
   "execution_count": 10,
   "id": "7a71256b",
   "metadata": {},
   "outputs": [],
   "source": [
    "class DogsAndCatsDataset(Dataset):\n",
    "    \n",
    "    def __init__(self,root_dir,size=(224,224)):\n",
    "        self.files = glob(root_dir)\n",
    "        self.size = size\n",
    "        \n",
    "    def __len__(self):\n",
    "        return len(self.files)\n",
    "    \n",
    "    def __getitem__(self,idx):\n",
    "        img = np.asarray(Image.open(self.files[idx]).resize(self.size))\n",
    "        label = self.files[idx].split('/')[-2]\n",
    "        return img,label"
   ]
  },
  {
   "cell_type": "code",
   "execution_count": 15,
   "id": "c03fe7ef",
   "metadata": {},
   "outputs": [],
   "source": [
    "from torch.utils.data import Dataset, DataLoader\n",
    "# 데이터셋에 딥러닝 적용"
   ]
  }
 ],
 "metadata": {
  "kernelspec": {
   "display_name": "Python 3 (ipykernel)",
   "language": "python",
   "name": "python3"
  },
  "language_info": {
   "codemirror_mode": {
    "name": "ipython",
    "version": 3
   },
   "file_extension": ".py",
   "mimetype": "text/x-python",
   "name": "python",
   "nbconvert_exporter": "python",
   "pygments_lexer": "ipython3",
   "version": "3.9.13"
  }
 },
 "nbformat": 4,
 "nbformat_minor": 5
}
